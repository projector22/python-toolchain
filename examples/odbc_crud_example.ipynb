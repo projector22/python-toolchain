{
 "cells": [
  {
   "cell_type": "markdown",
   "metadata": {},
   "source": [
    "# ODBC_CRUD\n",
    "\n",
    "Class for interacting with an Microsoft Access Database (mdb, accdb)."
   ]
  },
  {
   "cell_type": "code",
   "execution_count": null,
   "metadata": {},
   "outputs": [],
   "source": [
    "# Please run this first.\n",
    "# It is required for connecting local libraries\n",
    "# in this Jupyter notebook.\n",
    "\n",
    "import os\n",
    "import sys\n",
    "module_path = os.path.abspath(os.path.join('..'))\n",
    "if module_path not in sys.path:\n",
    "    sys.path.append(module_path)"
   ]
  },
  {
   "cell_type": "markdown",
   "metadata": {},
   "source": [
    "## Example"
   ]
  },
  {
   "cell_type": "code",
   "execution_count": null,
   "metadata": {},
   "outputs": [],
   "source": [
    "from lib.ODBC_CRUD.ODBC_CRUD import MDB_SQL\n",
    "\n",
    "mdb = MDB_SQL()\n",
    "data = mdb.table('example_table').select_all(\n",
    "    fields=[\n",
    "        \"field_a\",\n",
    "        \"field_b\",\n",
    "    ],\n",
    "    where={\n",
    "        \"field\": \"value\",\n",
    "        \"field2\": \"value2\",\n",
    "    },\n",
    "    order_by=\"field2 ASC\",\n",
    "    limit=5,\n",
    ")\n",
    "data = mdb.table('example_table').select_one(\n",
    "    fields=[\n",
    "        \"field_a\",\n",
    "        \"field_b\",\n",
    "    ],\n",
    "    where={\n",
    "        \"field\": \"value\",\n",
    "        \"field2\": \"value2\",\n",
    "    },\n",
    ")\n",
    "\n",
    "mdb.execute(\"SELECT * FROM `example_table`\")\n",
    "\n",
    "mdb.table('example_table').insert(\n",
    "    fields={\n",
    "        \"field\": \"value\",\n",
    "        \"field2\": \"value2\",\n",
    "    }\n",
    ")\n",
    "\n",
    "mdb.table('example_table').update(\n",
    "    fields={\n",
    "        \"field\": \"value\",\n",
    "    },\n",
    "    where={\n",
    "        \"field2\": \"value2\",\n",
    "    },\n",
    ")\n",
    "\n",
    "mdb.table('example_table').delete(\n",
    "    where={\n",
    "        \"field\": \"value\",  \n",
    "    }\n",
    ")"
   ]
  }
 ],
 "metadata": {
  "kernelspec": {
   "display_name": "Python 3.10.4 64-bit",
   "language": "python",
   "name": "python3"
  },
  "language_info": {
   "name": "python",
   "version": "3.10.4"
  },
  "orig_nbformat": 4,
  "vscode": {
   "interpreter": {
    "hash": "31f2aee4e71d21fbe5cf8b01ff0e069b9275f58929596ceb00d14d90e3e16cd6"
   }
  }
 },
 "nbformat": 4,
 "nbformat_minor": 2
}
