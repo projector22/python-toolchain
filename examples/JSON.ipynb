{
 "cells": [
  {
   "cell_type": "markdown",
   "metadata": {},
   "source": [
    "# JSON\n",
    "\n",
    "Class for doing various JSON tasks.\n",
    "\n",
    "## Static Methods\n",
    "\n",
    "- `dump_to_file`"
   ]
  },
  {
   "cell_type": "code",
   "execution_count": 1,
   "metadata": {},
   "outputs": [],
   "source": [
    "# Please run this first.\n",
    "# It is required for connecting local libraries\n",
    "# in this Jupyter notebook.\n",
    "\n",
    "import os\n",
    "import sys\n",
    "module_path = os.path.abspath(os.path.join('..'))\n",
    "if module_path not in sys.path:\n",
    "    sys.path.append(module_path)"
   ]
  },
  {
   "cell_type": "markdown",
   "metadata": {},
   "source": [
    "## Example"
   ]
  },
  {
   "cell_type": "code",
   "execution_count": null,
   "metadata": {},
   "outputs": [],
   "source": [
    "from lib.JSON.JSONTools import JSON\n",
    "\n",
    "data = {\n",
    "    'a': 'cheese',\n",
    "    'b': 'cake'\n",
    "}\n",
    "\n",
    "JSON.dump_to_file(data, 'data_dump', pretty_print=True)"
   ]
  }
 ],
 "metadata": {
  "kernelspec": {
   "display_name": "Python 3.10.6 64-bit",
   "language": "python",
   "name": "python3"
  },
  "language_info": {
   "codemirror_mode": {
    "name": "ipython",
    "version": 3
   },
   "file_extension": ".py",
   "mimetype": "text/x-python",
   "name": "python",
   "nbconvert_exporter": "python",
   "pygments_lexer": "ipython3",
   "version": "3.10.6"
  },
  "orig_nbformat": 4,
  "vscode": {
   "interpreter": {
    "hash": "350eca1aa06aaad16e0d83172498bdbe99a86a2a5df8723f566d4716d689d10d"
   }
  }
 },
 "nbformat": 4,
 "nbformat_minor": 2
}
