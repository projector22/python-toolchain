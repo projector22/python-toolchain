{
 "cells": [
  {
   "cell_type": "markdown",
   "metadata": {},
   "source": [
    "# Misc Functions\n",
    "\n",
    "Examples of all the various miscellaneous functions available in the directory `Misc`"
   ]
  },
  {
   "cell_type": "code",
   "execution_count": 1,
   "metadata": {},
   "outputs": [],
   "source": [
    "# Please run this first.\n",
    "# It is required for connecting local libraries\n",
    "# in this Jupyter notebook.\n",
    "\n",
    "import os\n",
    "import sys\n",
    "module_path = os.path.abspath(os.path.join('..'))\n",
    "if module_path not in sys.path:\n",
    "    sys.path.append(module_path)"
   ]
  },
  {
   "cell_type": "markdown",
   "metadata": {},
   "source": [
    "## `add_leading_zero`\n",
    "\n",
    "### Example Code"
   ]
  },
  {
   "cell_type": "code",
   "execution_count": 4,
   "metadata": {},
   "outputs": [
    {
     "name": "stdout",
     "output_type": "stream",
     "text": [
      "05\n",
      "005\n",
      "00\n",
      "12\n",
      "12\n",
      "cheese\n"
     ]
    }
   ],
   "source": [
    "from lib.Misc.add_leading_zero import add_leading_zero\n",
    "\n",
    "print(add_leading_zero(5))\n",
    "print(add_leading_zero(5, 2))\n",
    "print(add_leading_zero(0, 1))\n",
    "print(add_leading_zero(12))\n",
    "print(add_leading_zero('12'))\n",
    "print(add_leading_zero('cheese'))"
   ]
  },
  {
   "cell_type": "markdown",
   "metadata": {},
   "source": [
    "### Expected Results\n",
    "\n",
    "1. '05'\n",
    "2. '005'\n",
    "3. '00'\n",
    "4. '12'\n",
    "5. '12'\n",
    "6. 'cheese'"
   ]
  },
  {
   "cell_type": "markdown",
   "metadata": {},
   "source": [
    "## `add_to_archive`\n",
    "\n",
    "### Example Code"
   ]
  },
  {
   "cell_type": "code",
   "execution_count": 5,
   "metadata": {},
   "outputs": [
    {
     "name": "stdout",
     "output_type": "stream",
     "text": [
      "Adding to example_file_name.zip\n"
     ]
    }
   ],
   "source": [
    "from lib.Misc.add_to_archive import add_to_archive\n",
    "\n",
    "data = {\n",
    "    \"cheese\": [\n",
    "        \"cake\", \"mouse\"\n",
    "    ],\n",
    "    \"bacon\": True\n",
    "}\n",
    "\n",
    "add_to_archive(data, \"my_json_file.json\", \"example_file_name.zip\")"
   ]
  },
  {
   "cell_type": "markdown",
   "metadata": {},
   "source": [
    "### Expected Results\n",
    "\n",
    "A zip file will be created in the `examples` directory named `my_json_file.json`. Check to ensure that it is there. If the function is called multiple times on the same\n",
    "zip file, with different json files, they'll be added in turn."
   ]
  },
  {
   "cell_type": "markdown",
   "metadata": {},
   "source": [
    "## `hash`\n",
    "\n",
    "### Example Code"
   ]
  },
  {
   "cell_type": "code",
   "execution_count": null,
   "metadata": {},
   "outputs": [],
   "source": [
    "from lib.Misc.hash import md5\n",
    "\n",
    "print(md5(\"cheese\"))\n",
    "print(md5(\"cake\"))"
   ]
  },
  {
   "cell_type": "markdown",
   "metadata": {},
   "source": [
    "### Expected Results\n",
    "\n",
    "```py\n",
    "fea0f1f6fede90bd0a925b4194deac11\n",
    "a1b8585122e1ad60623d6a74d3eb3b6a\n",
    "```"
   ]
  }
 ],
 "metadata": {
  "kernelspec": {
   "display_name": "Python 3.10.6 64-bit",
   "language": "python",
   "name": "python3"
  },
  "language_info": {
   "codemirror_mode": {
    "name": "ipython",
    "version": 3
   },
   "file_extension": ".py",
   "mimetype": "text/x-python",
   "name": "python",
   "nbconvert_exporter": "python",
   "pygments_lexer": "ipython3",
   "version": "3.10.6"
  },
  "orig_nbformat": 4,
  "vscode": {
   "interpreter": {
    "hash": "350eca1aa06aaad16e0d83172498bdbe99a86a2a5df8723f566d4716d689d10d"
   }
  }
 },
 "nbformat": 4,
 "nbformat_minor": 2
}
